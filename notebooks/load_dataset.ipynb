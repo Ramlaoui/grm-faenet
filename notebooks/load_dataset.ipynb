{
 "cells": [
  {
   "cell_type": "code",
   "execution_count": 1,
   "metadata": {},
   "outputs": [],
   "source": [
    "import os\n",
    "import sys\n",
    "\n",
    "try:\n",
    "    if changed:\n",
    "        print(\"Changed\")\n",
    "except:\n",
    "    sys.path.append(\"..\")\n",
    "    os.chdir(\"..\")\n",
    "    changed = True\n",
    "\n",
    "%load_ext autoreload\n",
    "%autoreload 2"
   ]
  },
  {
   "cell_type": "code",
   "execution_count": 2,
   "metadata": {},
   "outputs": [],
   "source": [
    "config = {\n",
    "    \"src\": \"data/is2re/is2re_10k.lmdb\"\n",
    "}\n",
    "\n"
   ]
  },
  {
   "cell_type": "code",
   "execution_count": 8,
   "metadata": {},
   "outputs": [],
   "source": [
    "from pathlib import Path\n",
    "import lmdb\n",
    "\n",
    "path = Path(config[\"src\"])\n",
    "env = lmdb.open(\n",
    "    str(path),\n",
    "    subdir=False,\n",
    "    readonly=True,\n",
    "    lock=False,\n",
    "    readahead=False,\n",
    "    meminit=False,\n",
    "    max_readers=1,\n",
    ")\n",
    "\n",
    "length = env.stat()[\"entries\"]\n",
    "keys = [str(i).encode(\"ascii\") for i in range(env.stat()[\"entries\"])]"
   ]
  },
  {
   "cell_type": "code",
   "execution_count": 19,
   "metadata": {},
   "outputs": [],
   "source": [
    "from src.datasets.base_dataset import LMDBDataset\n",
    "\n",
    "ds = LMDBDataset(config)\n",
    "\n",
    "for i in range(10):\n",
    "    print(ds[i])"
   ]
  },
  {
   "cell_type": "code",
   "execution_count": null,
   "metadata": {},
   "outputs": [],
   "source": []
  }
 ],
 "metadata": {
  "kernelspec": {
   "display_name": "base",
   "language": "python",
   "name": "python3"
  },
  "language_info": {
   "codemirror_mode": {
    "name": "ipython",
    "version": 3
   },
   "file_extension": ".py",
   "mimetype": "text/x-python",
   "name": "python",
   "nbconvert_exporter": "python",
   "pygments_lexer": "ipython3",
   "version": "3.10.13"
  }
 },
 "nbformat": 4,
 "nbformat_minor": 2
}
